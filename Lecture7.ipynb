{
  "nbformat": 4,
  "nbformat_minor": 0,
  "metadata": {
    "colab": {
      "name": "Lecture7.ipynb",
      "provenance": [],
      "authorship_tag": "ABX9TyOGyex4zvZ5dmjz38tqobZ5",
      "include_colab_link": true
    },
    "kernelspec": {
      "name": "python3",
      "display_name": "Python 3"
    }
  },
  "cells": [
    {
      "cell_type": "markdown",
      "metadata": {
        "id": "view-in-github",
        "colab_type": "text"
      },
      "source": [
        "<a href=\"https://colab.research.google.com/github/BenjoCowley/PythonForDataAnalysisAtPNI/blob/master/Lecture7.ipynb\" target=\"_parent\"><img src=\"https://colab.research.google.com/assets/colab-badge.svg\" alt=\"Open In Colab\"/></a>"
      ]
    },
    {
      "cell_type": "markdown",
      "metadata": {
        "id": "W0_KDUqAzytu",
        "colab_type": "text"
      },
      "source": [
        "# Section 1: Logistic regression"
      ]
    },
    {
      "cell_type": "markdown",
      "metadata": {
        "id": "tK34_KpQ3GGg",
        "colab_type": "text"
      },
      "source": [
        ""
      ]
    },
    {
      "cell_type": "code",
      "metadata": {
        "id": "uDTm5s9Wzxa8",
        "colab_type": "code",
        "colab": {
          "base_uri": "https://localhost:8080/",
          "height": 35
        },
        "outputId": "aec68c2e-9e33-4897-880b-04d09f04332e"
      },
      "source": [
        "import numpy as np\n",
        "import matplotlib.pyplot as plt\n",
        "\n",
        "from sklearn.linear_model import LogisticRegression\n",
        "\n",
        "# generate data\n",
        "if True:\n",
        "  num_features = 10\n",
        "  num_samples_per_class = 100\n",
        "  x_A = np.random.normal(loc=0., scale=1., size=(num_features,num_samples_per_class))\n",
        "  x_B = np.random.normal(loc=0.5, scale=1., size=(num_features,num_samples_per_class))\n",
        "  X = np.concatenate((x_A, x_B), axis=1)\n",
        "\n",
        "  y = np.zeros((2*num_samples_per_class,))\n",
        "  y[num_samples_per_class:] = 1.\n",
        "\n",
        "  # X: (10 features x 200 samples)\n",
        "  # y: (200 samples), output\n",
        "\n",
        "\n",
        "## Exercise 1: Perform logistic regression\n",
        "## and compute accuracy between predicted and ground truth y's\n",
        "#  (Do this together as class)\n",
        "\n",
        "logreg = LogisticRegression()\n",
        "logreg.fit(X.T, y)\n",
        "\n",
        "y_hat = logreg.predict(X.T)\n",
        "\n",
        "y_hat_prob = logreg.predict_proba(X.T)\n",
        "\n",
        "accuracy = np.sum(y_hat == y) / y.size\n",
        "\n",
        "print(accuracy)\n",
        "\n"
      ],
      "execution_count": 8,
      "outputs": [
        {
          "output_type": "stream",
          "text": [
            "0.82\n"
          ],
          "name": "stdout"
        }
      ]
    },
    {
      "cell_type": "markdown",
      "metadata": {
        "id": "QoQTOFlN1o0a",
        "colab_type": "text"
      },
      "source": [
        "# Section 2: Increasing number of features"
      ]
    },
    {
      "cell_type": "code",
      "metadata": {
        "id": "mIkkUIvk1seJ",
        "colab_type": "code",
        "colab": {
          "base_uri": "https://localhost:8080/",
          "height": 383
        },
        "outputId": "0b5f1d8b-94c8-41a1-a37b-9a15854fc544"
      },
      "source": [
        "import numpy as np\n",
        "import matplotlib.pyplot as plt\n",
        "\n",
        "from sklearn.linear_model import LogisticRegression\n",
        "\n",
        "## Exercise 2: Write function to generate data with num_features\n",
        "##   (Do this together as class)\n",
        "def generate_data(num_features):\n",
        "  num_samples_per_class = 100\n",
        "  x_A = np.random.normal(loc=0., scale=1., size=(num_features,num_samples_per_class))\n",
        "  x_B = np.random.normal(loc=0.5, scale=1., size=(num_features,num_samples_per_class))\n",
        "  X = np.concatenate((x_A, x_B), axis=1)\n",
        "\n",
        "  y = np.zeros((2*num_samples_per_class,))\n",
        "  y[num_samples_per_class:] = 1.\n",
        "\n",
        "  return X, y\n",
        "\n",
        "## Exercise 3: \n",
        "##   We want to see accuracy vs. an increasing number of features.\n",
        "##   Consider numbers of features from 1 to 50.\n",
        "##   Regenerate data and compute the accuracy for each number.\n",
        "##   Plot accuracy vs. number of features.\n",
        "#   (Do on your own, but not as a breakout.)\n",
        "\n",
        "logreg = LogisticRegression()\n",
        "\n",
        "accuracies = []\n",
        "nums_features = np.arange(1,100)\n",
        "for num_features in list(nums_features):\n",
        "  X, y = generate_data(num_features)\n",
        "  logreg.fit(X.T, y)\n",
        "  y_hat = logreg.predict(X.T)\n",
        "  accuracy = np.sum(y_hat == y)/ y.size\n",
        "\n",
        "  accuracies.append(accuracy)\n",
        "\n",
        "print(nums_features)\n",
        "plt.plot(nums_features, accuracies)\n",
        "plt.xlabel('number of features')\n",
        "plt.ylabel('accuracy')\n",
        "\n"
      ],
      "execution_count": 14,
      "outputs": [
        {
          "output_type": "stream",
          "text": [
            "[ 1  2  3  4  5  6  7  8  9 10 11 12 13 14 15 16 17 18 19 20 21 22 23 24\n",
            " 25 26 27 28 29 30 31 32 33 34 35 36 37 38 39 40 41 42 43 44 45 46 47 48\n",
            " 49 50 51 52 53 54 55 56 57 58 59 60 61 62 63 64 65 66 67 68 69 70 71 72\n",
            " 73 74 75 76 77 78 79 80 81 82 83 84 85 86 87 88 89 90 91 92 93 94 95 96\n",
            " 97 98 99]\n"
          ],
          "name": "stdout"
        },
        {
          "output_type": "execute_result",
          "data": {
            "text/plain": [
              "Text(0, 0.5, 'accuracy')"
            ]
          },
          "metadata": {
            "tags": []
          },
          "execution_count": 14
        },
        {
          "output_type": "display_data",
          "data": {
            "image/png": "[encoded data removed]",
            "text/plain": [
              "<Figure size 432x288 with 1 Axes>"
            ]
          },
          "metadata": {
            "tags": [],
            "needs_background": "light"
          }
        }
      ]
    },
    {
      "cell_type": "markdown",
      "metadata": {
        "id": "dquaUuW42aoj",
        "colab_type": "text"
      },
      "source": [
        "# Section 3: Training and test sets"
      ]
    },
    {
      "cell_type": "code",
      "metadata": {
        "id": "AuvjOElr2eQb",
        "colab_type": "code",
        "colab": {
          "base_uri": "https://localhost:8080/",
          "height": 297
        },
        "outputId": "35936ab6-3404-46f0-e290-61a14998f882"
      },
      "source": [
        "## Exercise 4:\n",
        "##  Re-do section 3. Except for each number of features, \n",
        "##    generate both a training and test set. \n",
        "##  Compute accuracy both on the training data and test data.\n",
        "##  Plot both curves (one for training set accuracy, one for test set accuracy.)\n",
        "\n",
        "## HELPER FUNCTIONS\n",
        "\n",
        "def generate_data(num_features):\n",
        "  num_samples_per_class = 100\n",
        "  x_A = np.random.normal(loc=0., scale=1., size=(num_features,num_samples_per_class))\n",
        "  x_B = np.random.normal(loc=0.5, scale=1., size=(num_features,num_samples_per_class))\n",
        "  X = np.concatenate((x_A, x_B), axis=1)\n",
        "\n",
        "  y = np.zeros((2*num_samples_per_class,))\n",
        "  y[num_samples_per_class:] = 1.\n",
        "\n",
        "  return X, y\n",
        "\n",
        "\n",
        "## MAIN SCRIPT\n",
        "\n",
        "logreg = LogisticRegression()\n",
        "\n",
        "accuracies_train = []\n",
        "accuracies_test = []\n",
        "nums_features = np.arange(1,200)\n",
        "for num_features in list(nums_features):\n",
        "  # generate training and test data\n",
        "  X_train, y_train = generate_data(num_features)\n",
        "  X_test, y_test = generate_data(num_features)\n",
        "\n",
        "  # train my model\n",
        "  logreg.fit(X_train.T, y_train)\n",
        "\n",
        "  # accuracy for training set\n",
        "  y_train_hat = logreg.predict(X_train.T)\n",
        "\n",
        "  accuracy = np.sum(y_train_hat == y_train)/ y_train.size\n",
        "  accuracies_train.append(accuracy)\n",
        "\n",
        "  # accuracy for test set\n",
        "  y_test_hat = logreg.predict(X_test.T)\n",
        "\n",
        "  accuracy = np.sum(y_test_hat == y_test)/ y_test.size\n",
        "  accuracies_test.append(accuracy)\n",
        "\n",
        "plt.plot(nums_features, accuracies_train, '-b', label='training set')\n",
        "plt.plot(nums_features, accuracies_test, '-r', label='test set')\n",
        "plt.xlabel('number of features')\n",
        "plt.ylabel('accuracy')\n",
        "plt.legend()\n",
        "\n"
      ],
      "execution_count": 17,
      "outputs": [
        {
          "output_type": "execute_result",
          "data": {
            "text/plain": [
              "<matplotlib.legend.Legend at 0x7f9e8d0ef470>"
            ]
          },
          "metadata": {
            "tags": []
          },
          "execution_count": 17
        },
        {
          "output_type": "display_data",
          "data": {
            "image/png": "[encoded data removed]",
            "text/plain": [
              "<Figure size 432x288 with 1 Axes>"
            ]
          },
          "metadata": {
            "tags": [],
            "needs_background": "light"
          }
        }
      ]
    }
  ]
}