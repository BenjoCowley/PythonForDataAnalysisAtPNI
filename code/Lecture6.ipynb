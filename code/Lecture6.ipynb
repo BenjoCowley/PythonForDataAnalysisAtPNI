{
  "nbformat": 4,
  "nbformat_minor": 0,
  "metadata": {
    "colab": {
      "name": "Lecture6.ipynb",
      "provenance": [],
      "collapsed_sections": [],
      "authorship_tag": "ABX9TyM4UVnvOKr6eWHDvTY0hY5F",
      "include_colab_link": true
    },
    "kernelspec": {
      "name": "python3",
      "display_name": "Python 3"
    }
  },
  "cells": [
    {
      "cell_type": "markdown",
      "metadata": {
        "id": "view-in-github",
        "colab_type": "text"
      },
      "source": [
        "<a href=\"https://colab.research.google.com/github/BenjoCowley/PythonForDataAnalysisAtPNI/blob/master/Lecture6.ipynb\" target=\"_parent\"><img src=\"https://colab.research.google.com/assets/colab-badge.svg\" alt=\"Open In Colab\"/></a>"
      ]
    },
    {
      "cell_type": "markdown",
      "metadata": {
        "id": "i4ReD-wr-15T",
        "colab_type": "text"
      },
      "source": [
        "# Linear regression (2 predictors, 1 output variable)\n"
      ]
    },
    {
      "cell_type": "code",
      "metadata": {
        "id": "UjayIrSA-zoM",
        "colab_type": "code",
        "colab": {}
      },
      "source": [
        "import numpy as np\n",
        "from sklearn.linear_model import LinearRegression\n",
        "\n",
        "import matplotlib.pyplot as plt\n",
        "\n",
        "# generate data\n",
        "if True:\n",
        "  x1 = np.random.normal(size=(2,100), loc=1., scale=1.)\n",
        "  x2 = np.random.normal(size=(2,100), loc=2.5, scale=1.)\n",
        "  x = np.concatenate((x1,x2), axis=1)\n",
        "\n",
        "  y = 10. * x[0,:] + -20. * x[1,:] + np.random.normal(size=(200,), scale=0.3)\n",
        "\n",
        "\n",
        "# Exercise 1:\n",
        "#   Plot x[1,:] vs x[0,:] (i.e., x[0,:] on x-axis). Color points based on y's value.\n",
        "#   Hint: Use scatter.\n",
        "\n",
        "\n",
        "# Exercise 2:\n",
        "#   Perform linear regression to predict y from x.\n",
        "#   Find the coefficients returned from linear regression.\n",
        "#   Plot the vector representing the coefficients on top of the points from Ex. 1\n",
        "\n",
        "\n"
      ],
      "execution_count": 23,
      "outputs": []
    },
    {
      "cell_type": "markdown",
      "metadata": {
        "id": "hR5DpQNzFhs0",
        "colab_type": "text"
      },
      "source": [
        "# Linear Regression is not always the most appropriate model."
      ]
    },
    {
      "cell_type": "code",
      "metadata": {
        "id": "0zpzcrQbFlz4",
        "colab_type": "code",
        "colab": {}
      },
      "source": [
        "import numpy as np\n",
        "from sklearn.linear_model import LinearRegression\n",
        "\n",
        "import matplotlib.pyplot as plt\n",
        "\n",
        "# generate data\n",
        "if True:\n",
        "  x1 = np.random.normal(size=(2,100), loc=1., scale=1.)\n",
        "  x2 = np.random.normal(size=(2,100), loc=2.5, scale=1.)\n",
        "  x = np.concatenate((x1,x2), axis=1)\n",
        "\n",
        "  y = [np.zeros((100,)), np.ones((100,))]\n",
        "  y = np.concatenate(tuple(y))\n",
        "\n",
        "\n",
        "# Exercise 3:\n",
        "#   Plot x[0,:] vs. x[1,:] again, coloring dots based on y's values.\n",
        "\n",
        "\n",
        "# Exercise 4:\n",
        "#   Perform linear regression to predict y from x.\n",
        "#   Plot the vector representing the coefficients on top of the points from Ex. 3.\n",
        "\n",
        "\n",
        "# Exercise 5:\n",
        "#   Predict y from x using the linear regression model. (Hint: check out \"predict\")\n",
        "#   Plot y vs. predicted y.\n",
        "#   Is linear regression a good method for this data?\n",
        "\n",
        "\n"
      ],
      "execution_count": null,
      "outputs": []
    },
    {
      "cell_type": "markdown",
      "metadata": {
        "id": "u6QH0sH5G14v",
        "colab_type": "text"
      },
      "source": [
        "# Logistic regression (2 predictors, 1 output variable)"
      ]
    },
    {
      "cell_type": "code",
      "metadata": {
        "id": "g02q2IaFG7od",
        "colab_type": "code",
        "colab": {
          "base_uri": "https://localhost:8080/",
          "height": 282
        },
        "outputId": "76a55b1e-4f66-4beb-abb0-2297a84e0e9f"
      },
      "source": [
        "import numpy as np\n",
        "from sklearn.linear_model import LinearRegression\n",
        "\n",
        "import matplotlib.pyplot as plt\n",
        "\n",
        "# generate data\n",
        "if True:\n",
        "  x1 = np.random.normal(size=(2,100), loc=1., scale=1.)\n",
        "  x2 = np.random.normal(size=(2,100), loc=2.5, scale=1.)\n",
        "  x = np.concatenate((x1,x2), axis=1)\n",
        "\n",
        "  y = [np.zeros((100,)), np.ones((100,))]\n",
        "  y = np.concatenate(tuple(y))\n",
        "\n",
        "\n",
        "# Exercise 6\n",
        "#   Repeat the plot from Ex. 3 (plotting x's and colored by y's)\n",
        "#   Now perform logistic regression.\n",
        "#   Plot the vector returned by logistic regression on top of points from the\n",
        "#     other plot in this exercise.\n",
        "#   Plot y vs. the predicted y. \n",
        "#   Is logistic regression (a classifier) a good method for this data?\n",
        "\n",
        "\n"
      ]
    }
  ]
}
