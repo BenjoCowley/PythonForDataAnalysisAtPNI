{
  "nbformat": 4,
  "nbformat_minor": 0,
  "metadata": {
    "colab": {
      "name": "Lecture7.ipynb",
      "provenance": [],
      "authorship_tag": "ABX9TyPVj/rklb4HrYus9fg7LYdU",
      "include_colab_link": true
    },
    "kernelspec": {
      "name": "python3",
      "display_name": "Python 3"
    }
  },
  "cells": [
    {
      "cell_type": "markdown",
      "metadata": {
        "id": "view-in-github",
        "colab_type": "text"
      },
      "source": [
        "<a href=\"https://colab.research.google.com/github/BenjoCowley/PythonForDataAnalysisAtPNI/blob/master/Lecture7.ipynb\" target=\"_parent\"><img src=\"https://colab.research.google.com/assets/colab-badge.svg\" alt=\"Open In Colab\"/></a>"
      ]
    },
    {
      "cell_type": "markdown",
      "metadata": {
        "id": "W0_KDUqAzytu",
        "colab_type": "text"
      },
      "source": [
        "# Section 1: Logistic regression"
      ]
    },
    {
      "cell_type": "markdown",
      "metadata": {
        "id": "tK34_KpQ3GGg",
        "colab_type": "text"
      },
      "source": [
        ""
      ]
    },
    {
      "cell_type": "code",
      "metadata": {
        "id": "uDTm5s9Wzxa8",
        "colab_type": "code",
        "colab": {}
      },
      "source": [
        "import numpy as np\n",
        "import matplotlib.pyplot as plt\n",
        "\n",
        "from sklearn.linear_model import LogisticRegression\n",
        "\n",
        "# generate data\n",
        "if True:\n",
        "  num_features = 10\n",
        "  num_samples_per_class = 100\n",
        "  x1 = np.random.normal(loc=0., scale=1., size=(num_features,num_samples_per_class))\n",
        "  x2 = np.random.normal(loc=0.5, scale=1., size=(num_features,num_samples_per_class))\n",
        "  X = np.concatenate((x1, x2), axis=1)\n",
        "\n",
        "  y = np.zeros((2*num_samples_per_class,))\n",
        "  y[num_samples_per_class:] = 1.\n",
        "\n",
        "  # X: (10 features x 200 samples)\n",
        "  # y: (200 samples), output\n",
        "\n",
        "\n",
        "## Exercise 1: Perform logistic regression\n",
        "## and compute accuracy between predicted and ground truth y's\n",
        "#  (Do this together as class)\n",
        "\n",
        "\n"
      ],
      "execution_count": 10,
      "outputs": []
    },
    {
      "cell_type": "markdown",
      "metadata": {
        "id": "QoQTOFlN1o0a",
        "colab_type": "text"
      },
      "source": [
        "# Section 2: Increasing number of features"
      ]
    },
    {
      "cell_type": "code",
      "metadata": {
        "id": "mIkkUIvk1seJ",
        "colab_type": "code",
        "colab": {}
      },
      "source": [
        "import numpy as np\n",
        "import matplotlib.pyplot as plt\n",
        "\n",
        "from sklearn.linear_model import LogisticRegression\n",
        "\n",
        "## Exercise 2: Write function to generate data with num_features\n",
        "##   (Do this together as class)\n",
        "def generate_data(num_features):\n",
        "\n",
        "\n",
        "## Exercise 3: \n",
        "##   We want to see accuracy vs. an increasing number of features.\n",
        "##   Consider numbers of features from 1 to 50.\n",
        "##   Regenerate data and compute the accuracy for each number.\n",
        "##   Plot accuracy vs. number of features.\n",
        "#   (Do on your own, but not as a breakout.)\n",
        "\n",
        "\n"
      ],
      "execution_count": null,
      "outputs": []
    },
    {
      "cell_type": "markdown",
      "metadata": {
        "id": "dquaUuW42aoj",
        "colab_type": "text"
      },
      "source": [
        "# Section 3: Training and test sets"
      ]
    },
    {
      "cell_type": "code",
      "metadata": {
        "id": "AuvjOElr2eQb",
        "colab_type": "code",
        "colab": {}
      },
      "source": [
        "## Exercise 4:\n",
        "##  Re-do section 3. Except for each number of features, \n",
        "##    generate both a training and test set. \n",
        "##  Compute accuracy both on the training data and test data.\n",
        "##  Plot both curves (one for training set accuracy, one for test set accuracy.)\n",
        "\n",
        "\n"
      ],
      "execution_count": null,
      "outputs": []
    }
  ]
}
