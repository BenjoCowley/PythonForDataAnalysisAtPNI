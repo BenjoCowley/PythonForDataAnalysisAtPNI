{
  "nbformat": 4,
  "nbformat_minor": 0,
  "metadata": {
    "colab": {
      "name": "Lecture10.ipynb",
      "provenance": [],
      "authorship_tag": "ABX9TyP2NKA1tG6OnUjIzj7VyO+c",
      "include_colab_link": true
    },
    "kernelspec": {
      "name": "python3",
      "display_name": "Python 3"
    }
  },
  "cells": [
    {
      "cell_type": "markdown",
      "metadata": {
        "id": "view-in-github",
        "colab_type": "text"
      },
      "source": [
        "<a href=\"https://colab.research.google.com/github/BenjoCowley/PythonForDataAnalysisAtPNI/blob/master/code/Lecture10.ipynb\" target=\"_parent\"><img src=\"https://colab.research.google.com/assets/colab-badge.svg\" alt=\"Open In Colab\"/></a>"
      ]
    },
    {
      "cell_type": "markdown",
      "metadata": {
        "id": "KzFnJ2aBwQiE",
        "colab_type": "text"
      },
      "source": [
        "# Section 1: k-means for 2-d data"
      ]
    },
    {
      "cell_type": "code",
      "metadata": {
        "id": "YzVB4TtuwO3K",
        "colab_type": "code",
        "colab": {}
      },
      "source": [
        "import numpy as np\n",
        "import matplotlib.pyplot as plt\n",
        "from sklearn.cluster import KMeans\n",
        "\n",
        "\n",
        "## generate data (5 clusters)\n",
        "if True:\n",
        "  X = []\n",
        "  num_clusters = 5\n",
        "  for icluster in range(num_clusters):\n",
        "    x_mean = 5. * np.array([np.cos(icluster/num_clusters*2*np.pi), np.sin(icluster/num_clusters*2*np.pi)])\n",
        "    x_cluster = np.random.normal(size=(2,100)) + x_mean[:,np.newaxis]\n",
        "    X.append(x_cluster)\n",
        "  X = np.concatenate(X, axis=1)\n",
        "  # X: (2, 500) 2 variables, 500 samples\n",
        "\n",
        "### Step 1: Plot data\n",
        "\n",
        "### Step 2: Apply k-means for 1 to 10 clusters.\n",
        "#   For each step, plot clustered data with chosen number of clusters\n",
        "#   At end, plot \"within-distance\" (intertia) plot to find the elbow\n",
        "#   (hint: use kmeans.labels_ and kmeans.intertia_)\n",
        "\n",
        "\n"
      ],
      "execution_count": 18,
      "outputs": []
    },
    {
      "cell_type": "markdown",
      "metadata": {
        "id": "YrABFm262oam",
        "colab_type": "text"
      },
      "source": [
        "# Section 2: Adding \"nuisance\" variables"
      ]
    },
    {
      "cell_type": "code",
      "metadata": {
        "id": "nr69aZOA2q-L",
        "colab_type": "code",
        "colab": {
          "base_uri": "https://localhost:8080/",
          "height": 283
        },
        "outputId": "84f64eb9-603b-4d62-9e77-1b98deff732d"
      },
      "source": [
        "import numpy as np\n",
        "import matplotlib.pyplot as plt\n",
        "from sklearn.cluster import KMeans\n",
        "from scipy import stats\n",
        "\n",
        "def get_data(num_nuisance_vars=0):\n",
        "# returns X (num_vars, 500) with 5 clusters, 500 samples, and 2 + num_nuisance_vars variables\n",
        "  X = []\n",
        "  num_clusters = 5\n",
        "  for icluster in range(num_clusters):\n",
        "    x_mean = 5. * np.array([np.cos(icluster/num_clusters*2*np.pi), np.sin(icluster/num_clusters*2*np.pi)])\n",
        "    x_cluster = np.random.standard_normal(size=(2+num_nuisance_vars,100))\n",
        "    x_cluster[:2,:] = x_cluster[:2,:] + x_mean[:,np.newaxis]\n",
        "    X.append(x_cluster)\n",
        "  X = np.concatenate(X, axis=1)\n",
        "  return X\n",
        "\n",
        "\n",
        "### MAIN SCRIPT\n",
        "\n",
        "## Is k-means affected by high-d noise?\n",
        "## Compute the inertia for kmeans, 1 to 10 clusters,\n",
        "##  considering the number of nuisance variables: [0, 500, 1000, 5000]\n",
        "## Plot inertia for each number (curves on top of one another)\n",
        "##  Note: zscore each inertia plot (stats.zscore)\n",
        "\n",
        "\n",
        "\n"
      ],
      "execution_count": 31,
      "outputs": [
        {
          "output_type": "execute_result",
          "data": {
            "text/plain": [
              "<matplotlib.legend.Legend at 0x7f98e9d5b828>"
            ]
          },
          "metadata": {
            "tags": []
          },
          "execution_count": 31
        },
        {
          "output_type": "display_data",
          "data": {
            "image/png": "[encoded data removed]",
            "text/plain": [
              "<Figure size 432x288 with 1 Axes>"
            ]
          },
          "metadata": {
            "tags": [],
            "needs_background": "light"
          }
        }
      ]
    }
  ]
}