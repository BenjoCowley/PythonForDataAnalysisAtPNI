{
  "nbformat": 4,
  "nbformat_minor": 0,
  "metadata": {
    "colab": {
      "name": "Lecture8.ipynb",
      "provenance": [],
      "authorship_tag": "ABX9TyMOj5F5r3C45r2CBVPD+W4N",
      "include_colab_link": true
    },
    "kernelspec": {
      "name": "python3",
      "display_name": "Python 3"
    }
  },
  "cells": [
    {
      "cell_type": "markdown",
      "metadata": {
        "id": "view-in-github",
        "colab_type": "text"
      },
      "source": [
        "<a href=\"https://colab.research.google.com/github/BenjoCowley/PythonForDataAnalysisAtPNI/blob/master/code/Lecture8.ipynb\" target=\"_parent\"><img src=\"https://colab.research.google.com/assets/colab-badge.svg\" alt=\"Open In Colab\"/></a>"
      ]
    },
    {
      "cell_type": "markdown",
      "metadata": {
        "id": "HWKpw-UWifUM",
        "colab_type": "text"
      },
      "source": [
        "# Section 1: PCA on two variables"
      ]
    },
    {
      "cell_type": "code",
      "metadata": {
        "id": "WSYiRFWhhB0g",
        "colab_type": "code",
        "colab": {
          "base_uri": "https://localhost:8080/",
          "height": 823
        },
        "outputId": "efc1a147-22d5-44c8-edbf-be3653ed31f5"
      },
      "source": [
        "import numpy as np\n",
        "import matplotlib.pyplot as plt\n",
        "from sklearn.decomposition import PCA\n",
        "\n",
        "# generate data\n",
        "if True:\n",
        "  X = np.random.standard_normal(size=(2,200))\n",
        "  X[:,100:] = X[:,100:] + 4*np.ones((2,100))\n",
        "\n",
        "  # X: (2, 200)\n",
        "\n",
        "# Step 1: Plot data\n",
        "plt.scatter(X[0,:], X[1,:])\n",
        "plt.xlabel('$x_1$')\n",
        "plt.ylabel('$x_2$')\n",
        "\n",
        "\n",
        "# Step 2: Apply PCA to get one dimension\n",
        "#   Plot both axes on the 2-d plot\n",
        "\n",
        "pca = PCA()\n",
        "pca.fit(X.T)\n",
        "\n",
        "loadings = pca.components_.T\n",
        "loadings = 2.*loadings\n",
        "# loadings (num_features x num_PCs)\n",
        "plt.plot([0, loadings[0,0]], [0, loadings[1,0]], '-r')\n",
        "plt.plot([0, loadings[0,1]], [0, loadings[1,1]], '-g')\n",
        "plt.axis('equal')\n",
        "\n",
        "# Step 3: Compute explained variance for each variable\n",
        "plt.figure()\n",
        "vars_explained = pca.explained_variance_\n",
        "plt.bar(np.arange(2), vars_explained)\n",
        "plt.xlabel('PC dimension')\n",
        "plt.ylabel('var explained')\n",
        "\n",
        "# Step 4: Plot PC1 in a histogram (hint: use \"hist\")\n",
        "Z = pca.transform(X.T).T # Z are the principal components\n",
        "\n",
        "plt.figure()\n",
        "plt.hist(Z[0,:])\n",
        "plt.xlabel('PC1')\n",
        "plt.ylabel('frequency')\n",
        "\n"
      ],
      "execution_count": 16,
      "outputs": [
        {
          "output_type": "execute_result",
          "data": {
            "text/plain": [
              "Text(0, 0.5, 'frequency')"
            ]
          },
          "metadata": {
            "tags": []
          },
          "execution_count": 16
        },
        {
          "output_type": "display_data",
          "data": {
            "image/png": "[encoded data removed]",
            "text/plain": [
              "<Figure size 432x288 with 1 Axes>"
            ]
          },
          "metadata": {
            "tags": [],
            "needs_background": "light"
          }
        },
        {
          "output_type": "display_data",
          "data": {
            "image/png": "[encoded data removed]",
            "text/plain": [
              "<Figure size 432x288 with 1 Axes>"
            ]
          },
          "metadata": {
            "tags": [],
            "needs_background": "light"
          }
        },
        {
          "output_type": "display_data",
          "data": {
            "image/png": "[encoded data removed]",
            "text/plain": [
              "<Figure size 432x288 with 1 Axes>"
            ]
          },
          "metadata": {
            "tags": [],
            "needs_background": "light"
          }
        }
      ]
    },
    {
      "cell_type": "markdown",
      "metadata": {
        "id": "Be4W8RpUmDBX",
        "colab_type": "text"
      },
      "source": [
        "# Section 2: PCA on many variables"
      ]
    },
    {
      "cell_type": "code",
      "metadata": {
        "id": "nKXL7EDQlgrl",
        "colab_type": "code",
        "colab": {}
      },
      "source": [
        "import numpy as np\n",
        "import matplotlib.pyplot as plt\n",
        "from sklearn.decomposition import PCA\n",
        "\n",
        "# generate data\n",
        "if True:\n",
        "    X = []\n",
        "    num_vars = 20\n",
        "    num_clusters = 5\n",
        "    num_samples_per_cluster = 100\n",
        "    for icluster in range(num_clusters):\n",
        "      x_mean = np.random.randint(low=1, high=10, size=(num_vars,)).astype('float')\n",
        "      X_cluster = np.random.normal(size=(num_vars, num_samples_per_cluster), loc=0., scale=1.)\n",
        "      X_cluster = X_cluster + x_mean[:,np.newaxis]\n",
        "      X.append(X_cluster)\n",
        "    X = np.concatenate(X, axis=1)  # transforms list into array\n",
        "\n",
        "  # X: (num_features x num_samples)\n",
        "\n",
        "# Step 1: Plot variance for each x variable.\n",
        "#   Use a bar plot (hint: use 'np.var' and 'plt.bar')\n",
        "\n",
        "\n",
        "# Step 2: Apply PCA to X\n",
        "\n",
        "\n",
        "# Step 3: Plot variance explained for each dimension.\n",
        "# (use a bar plot)\n",
        "\n",
        "\n",
        "# Step 4: Plot PC1 vs PC2.\n",
        "\n",
        "\n",
        "# Step 5: Plot a heatmap of the loadings\n",
        "#   (hint, use 'plt.imshow')\n"
      ],
      "execution_count": null,
      "outputs": []
    }
  ]
}
