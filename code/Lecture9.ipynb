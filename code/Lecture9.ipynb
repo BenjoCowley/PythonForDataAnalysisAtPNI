{
  "nbformat": 4,
  "nbformat_minor": 0,
  "metadata": {
    "colab": {
      "name": "Lecture9.ipynb",
      "provenance": [],
      "authorship_tag": "ABX9TyNSIGyng0IqOshS6Uj4XNsv",
      "include_colab_link": true
    },
    "kernelspec": {
      "name": "python3",
      "display_name": "Python 3"
    }
  },
  "cells": [
    {
      "cell_type": "markdown",
      "metadata": {
        "id": "view-in-github",
        "colab_type": "text"
      },
      "source": [
        "<a href=\"https://colab.research.google.com/github/BenjoCowley/PythonForDataAnalysisAtPNI/blob/master/code/Lecture9.ipynb\" target=\"_parent\"><img src=\"https://colab.research.google.com/assets/colab-badge.svg\" alt=\"Open In Colab\"/></a>"
      ]
    },
    {
      "cell_type": "markdown",
      "metadata": {
        "id": "ipko3cLpF9Yj",
        "colab_type": "text"
      },
      "source": [
        "# Section 1: PCA on time series"
      ]
    },
    {
      "cell_type": "code",
      "metadata": {
        "id": "hiA0NssjF6E1",
        "colab_type": "code",
        "colab": {}
      },
      "source": [
        "import numpy as np\n",
        "import matplotlib.pyplot as plt\n",
        "from sklearn.decomposition import PCA\n",
        "\n",
        "# generate data\n",
        "if True:\n",
        "\n",
        "  # generate templates\n",
        "  num_timepoints = 50\n",
        "  Sigma = np.zeros((num_timepoints,num_timepoints))\n",
        "  for it in range(num_timepoints):\n",
        "    for jt in range(num_timepoints):\n",
        "      Sigma[it,jt] = np.exp(-((it-jt)/5)**2)\n",
        "  temp1 = np.random.multivariate_normal(mean=np.zeros(num_timepoints,), cov=Sigma)\n",
        "  temp2 = np.random.multivariate_normal(mean=np.zeros(num_timepoints,), cov=Sigma)\n",
        "\n",
        "  temp1 -= np.mean(temp1)\n",
        "  temp2 -= np.mean(temp2)\n",
        "  temp2 = temp2 - np.dot(temp1,temp2) * temp1 / np.sum(temp1**2)\n",
        "\n",
        "  # generate time series\n",
        "  num_waveforms = 1000\n",
        "  waveforms = np.zeros((num_waveforms, num_timepoints))\n",
        "  for iform in range(num_waveforms):\n",
        "    if iform < num_waveforms/4:\n",
        "      waveforms[iform,:] = temp1 + np.random.normal(size=(num_timepoints,), scale=0.05)\n",
        "    elif iform < num_waveforms/2:\n",
        "      waveforms[iform,:] = temp2 + np.random.normal(size=(num_timepoints,), scale=0.05)\n",
        "    else:\n",
        "      waveforms[iform,:] = np.random.normal(size=(num_timepoints,),scale=0.05)\n",
        "\n",
        "\n",
        "# Step 1: Plot waveforms\n",
        "\n",
        "# Step 2: Apply PCA\n",
        "\n",
        "# Step 3: Plot explained variance\n",
        "\n",
        "# Step 4: Plot loadings as templates\n",
        "\n",
        "# Step 5: Plot templates over waveforms\n",
        "\n",
        "\n"
      ],
      "execution_count": 68,
      "outputs": []
    },
    {
      "cell_type": "markdown",
      "metadata": {
        "id": "zq1KQW4aVlu1",
        "colab_type": "text"
      },
      "source": [
        "# t-SNE (together)"
      ]
    },
    {
      "cell_type": "code",
      "metadata": {
        "id": "2HPJL_GOVneG",
        "colab_type": "code",
        "colab": {}
      },
      "source": [
        "import numpy as np\n",
        "import matplotlib.pyplot as plt\n",
        "from sklearn.decomposition import PCA\n",
        "from sklearn.manifold import TSNE\n",
        "\n",
        "# generate data\n",
        "if True:\n",
        "  X_A = np.random.normal(size=(10,500))\n",
        "  X_B = np.zeros((10,500))\n",
        "  X_B[:5,:] = np.random.normal(size=(5,500), loc=5.)\n",
        "  X_B[5:,:] = np.random.normal(size=(5,500), scale=10.)\n",
        "\n",
        "  X = np.concatenate([X_A, X_B], axis=1)\n",
        "\n",
        "# Step 1: Plot what is really happening\n",
        "\n",
        "# Step 2: Apply PCA and plot top two latents\n",
        "\n",
        "# Step 3: Apply tSNE...can it find the two clusters?\n",
        "\n",
        "\n",
        "\n"
      ],
      "execution_count": 76,
      "outputs": []
    },
    {
      "cell_type": "markdown",
      "metadata": {
        "id": "P45gP3ZPYN3N",
        "colab_type": "text"
      },
      "source": [
        "# Section 3, t-SNE with many clusters (on your own)"
      ]
    },
    {
      "cell_type": "code",
      "metadata": {
        "id": "HAf03n3XYRwD",
        "colab_type": "code",
        "colab": {}
      },
      "source": [
        "import numpy as np\n",
        "import matplotlib.pyplot as plt\n",
        "from sklearn.manifold import TSNE\n",
        "\n",
        "# generate data function\n",
        "def generate_data(num_clusters=1, num_samples_per_cluster=25):\n",
        "  # returns X (num_features, num_samples)\n",
        "  X = []\n",
        "  num_vars = 10\n",
        "  for icluster in range(num_clusters):\n",
        "    means = np.random.randint(low=-10,high=10,size=(num_vars,))[:,np.newaxis]\n",
        "    means = np.tile(means, (1,num_samples_per_cluster))\n",
        "\n",
        "    X.append(np.random.normal(loc=means))\n",
        "  X = np.concatenate(X, axis=1)\n",
        "  return X\n",
        "\n",
        "# Task:\n",
        "#   Generate data, varying the number of clusters in the set [5,10,20,30,40,50,75]\n",
        "#   For each dataset, \n",
        "#     1. Apply PCA. Plot top 2 PCs.\n",
        "#     2. Apply tSNE. Plot top 2 dims.\n",
        "#   You should end up with 14 plots total. \n",
        "#   Bonus points: plot each cluster's plots side by side (hint: use 'plt.subplot(1,2,iplot)')\n"
      ],
      "execution_count": 91,
      "outputs": []
    }
  ]
}