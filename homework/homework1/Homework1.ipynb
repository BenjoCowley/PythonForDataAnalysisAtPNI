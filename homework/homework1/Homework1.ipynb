{
  "nbformat": 4,
  "nbformat_minor": 0,
  "metadata": {
    "colab": {
      "name": "Homework1.ipynb",
      "provenance": [],
      "authorship_tag": "ABX9TyP0hYIPT8soQowLWny280NT",
      "include_colab_link": true
    },
    "kernelspec": {
      "name": "python3",
      "display_name": "Python 3"
    }
  },
  "cells": [
    {
      "cell_type": "markdown",
      "metadata": {
        "id": "view-in-github",
        "colab_type": "text"
      },
      "source": [
        "<a href=\"https://colab.research.google.com/github/BenjoCowley/PythonForDataAnalysisAtPNI/blob/master/homework/homework1/Homework1.ipynb\" target=\"_parent\"><img src=\"https://colab.research.google.com/assets/colab-badge.svg\" alt=\"Open In Colab\"/></a>"
      ]
    },
    {
      "cell_type": "markdown",
      "metadata": {
        "id": "uNrfsPsXZpf8",
        "colab_type": "text"
      },
      "source": [
        "### Homework 1\n",
        "\n",
        "You have just collected data from a neuroscientific experiment! A subject performed a stimulus-change detection task. The subject watches a stimulus (a filled square on a gray screen) and waits for the stimulus to change luminances (i.e., the square changes from black to white). Once the subject detects a stimulus change, they hit a button. We record the time it takes for the subject to detect a change (called the reaction time: the time between the stimulus change and the button press). \n",
        "\n",
        "We are interested if the size of the change in luminance is related to reaction time.  Our hypothesis is that the larger the change in luminance, the larger the reaction time.\n",
        "\n",
        "***NOTE: For every plot, make sure the x-axis and y-axis have labels!!!***"
      ]
    },
    {
      "cell_type": "code",
      "metadata": {
        "id": "4rsf6QUmZLtA",
        "colab_type": "code",
        "colab": {}
      },
      "source": [
        "# Download data.\n",
        "\n",
        "# Step 1: Download the homework1data.zip from the github course website (https://github.com/BenjoCowley/PythonForDataAnalysisAtPNI) to your desktop.\n",
        "#   Unzip the file, then load the folder to your colab.\n",
        "#\n",
        "#  There should be three files:\n",
        "#   subject_ids.npy\n",
        "#   luminances.npy\n",
        "#   reaction_times.npy\n",
        "#  Each file contains one 1-d array.\n",
        "\n",
        "# Step 2:\n",
        "#   Load these files with numpy (check out \"np.load\")\n",
        "#   Explore what these arrays look like (\"shape\", \"size\", index different elements)\n"
      ],
      "execution_count": null,
      "outputs": []
    },
    {
      "cell_type": "code",
      "metadata": {
        "id": "mcHxt0HmdARG",
        "colab_type": "code",
        "colab": {}
      },
      "source": [
        "# Explore reaction times.\n",
        "\n",
        "# Step 3: \n",
        "#   Plot a histogram of reaction times.\n",
        "#   Compute the mean, median, max, and min reaction times. Indicate those on the histogram plot.\n",
        "\n",
        "# Step 4:\n",
        "#   How many modes (\"bumps\" or \"peaks\") does this distribution have? Estimate at which reaction times\n",
        "#   the peaks occur, and indicate those times on the histogram plot. Why might there be peaks?"
      ],
      "execution_count": null,
      "outputs": []
    },
    {
      "cell_type": "code",
      "metadata": {
        "id": "9lCP6vGgdgeb",
        "colab_type": "code",
        "colab": {}
      },
      "source": [
        "# Explore the relationship between luminance and reaction time.\n",
        "\n",
        "# Step 5: Make a scatter plot of reaction time vs. luminance. Compute the correlation between reaction time and\n",
        "#   luminance. (read up on Pearson's correlation and check out \"np.corrcoef\")\n",
        "#   Is there a strong or weak relationship between the two?"
      ],
      "execution_count": null,
      "outputs": []
    },
    {
      "cell_type": "code",
      "metadata": {
        "id": "ouPC_EyaeKcg",
        "colab_type": "code",
        "colab": {}
      },
      "source": [
        "# Re-centering the data.\n",
        "\n",
        "# One possibility is that each subject may have a different mean reaction time (e.g., one subject\n",
        "#   may be hyped up on coffee while another may be sleepy). \n",
        "# Step 6: On the same plot, plot a histogram of reaction times for each subject. (Hint: use subject_ids)\n",
        "#     On this plot, indicate the mean reaction time for each subject with a vertical line.\n",
        "\n",
        "# Step 7:\n",
        "#   Re-center each subject's reaction times (so that their mean reaction time is 0). \n",
        "#   Re-plot the histograms of each subject to ensure the re-centering is correct."
      ],
      "execution_count": null,
      "outputs": []
    },
    {
      "cell_type": "code",
      "metadata": {
        "id": "y51fXQSLfH2A",
        "colab_type": "code",
        "colab": {}
      },
      "source": [
        "# Re-exploring the relationship between luminance and reaction time.\n",
        "\n",
        "# Step 8:\n",
        "#  Re-make the scatter plot of re-centered reaction times vs. luminances.\n",
        "#  Compute the correlation between the re-centered reaction time and luminance. Is this different \n",
        "#   from Step 5?  Why or why not?"
      ],
      "execution_count": null,
      "outputs": []
    }
  ]
}